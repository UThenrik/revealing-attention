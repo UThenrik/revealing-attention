{
 "cells": [
  {
   "cell_type": "markdown",
   "metadata": {},
   "source": [
    "# Import"
   ]
  },
  {
   "cell_type": "code",
   "execution_count": null,
   "metadata": {},
   "outputs": [],
   "source": [
    "# Standard libraries\n",
    "import os\n",
    "import sys\n",
    "\n",
    "# Data processing\n",
    "import numpy as np\n",
    "import pandas as pd\n",
    "from PIL import Image\n",
    "\n",
    "# Deep learning\n",
    "import torch\n",
    "\n",
    "# Visualization\n",
    "import matplotlib\n",
    "from IPython.display import display\n",
    "\n",
    "# Project-specific imports\n",
    "sys.path.insert(0, './atarihead')\n",
    "sys.path.insert(0, '../src')\n",
    "import data_reader as ahdr\n",
    "from replay_buffer import HDF5ReplayBufferRAM as HDF5ReplayBuffer, Transition\n",
    "\n",
    "# Configuration\n",
    "pd.options.display.float_format = '{:.3g}'.format\n",
    "\n",
    "# IPython display setup\n",
    "is_ipython = 'inline' in matplotlib.get_backend()\n",
    "if is_ipython:\n",
    "    from IPython import display\n"
   ]
  },
  {
   "cell_type": "markdown",
   "metadata": {},
   "source": [
    "# Load CSV"
   ]
  },
  {
   "cell_type": "code",
   "execution_count": null,
   "metadata": {},
   "outputs": [
    {
     "name": "stderr",
     "output_type": "stream",
     "text": [
      "C:\\Users\\henri\\AppData\\Local\\Temp\\ipykernel_22004\\360332904.py:11: FutureWarning: Setting an item of incompatible dtype is deprecated and will raise an error in a future version of pandas. Value '4' has dtype incompatible with bool, please explicitly cast to a compatible dtype first.\n",
      "  data[data['new_frames']>4]=4\n"
     ]
    }
   ],
   "source": [
    "game_name='...'\n",
    "\n",
    "folder_path = fr\"atari_agents\\records\\MDQN_modern\\{game_name}\\0\"\n",
    "\n",
    "# Load other info\n",
    "csv_path=folder_path+r'\\reward_action_table.csv'\n",
    "data = pd.read_csv(csv_path)\n",
    "data.tail()\n",
    "\n",
    "data['new_frames'] = data['frame_until'].diff().fillna(data['frame_until'].iloc[0])\n",
    "\n",
    "if game_name=='NameThisGame': # NameThisGame exhibits some unrecorded but counted frames at the beginning of each episode\n",
    "    data[data['new_frames']>4]=4\n",
    "\n",
    "data['frame_number']=data['frame_until']-data['frame_until'].values[0]\n",
    "data.head()"
   ]
  },
  {
   "cell_type": "markdown",
   "metadata": {},
   "source": [
    "# Load images"
   ]
  },
  {
   "cell_type": "code",
   "execution_count": null,
   "metadata": {},
   "outputs": [
    {
     "name": "stdout",
     "output_type": "stream",
     "text": [
      "atari_agents\\records\\MDQN_modern\\NameThisGame\\0\n",
      "0\n",
      "5000\n",
      "10000\n",
      "15000\n",
      "20000\n",
      "25000\n",
      "30000\n",
      "35000\n",
      "40000\n",
      "45000\n",
      "50000\n",
      "55000\n",
      "60000\n",
      "65000\n",
      "70000\n",
      "75000\n",
      "80000\n",
      "85000\n",
      "90000\n",
      "95000\n",
      "100000\n",
      "105000\n",
      "110000\n",
      "115000\n",
      "120000\n",
      "125000\n",
      "130000\n",
      "135000\n",
      "140000\n",
      "145000\n",
      "150000\n",
      "155000\n",
      "160000\n",
      "165000\n",
      "170000\n",
      "175000\n",
      "180000\n",
      "185000\n",
      "190000\n",
      "195000\n",
      "200000\n",
      "205000\n",
      "210000\n",
      "215000\n",
      "220000\n",
      "225000\n",
      "230000\n",
      "235000\n",
      "240000\n",
      "245000\n",
      "250000\n",
      "255000\n",
      "260000\n",
      "265000\n",
      "270000\n",
      "275000\n",
      "280000\n",
      "285000\n",
      "290000\n",
      "295000\n",
      "300000\n",
      "305000\n",
      "310000\n",
      "315000\n",
      "320000\n",
      "325000\n",
      "330000\n",
      "335000\n",
      "340000\n",
      "345000\n",
      "350000\n",
      "355000\n",
      "360000\n",
      "365000\n",
      "370000\n",
      "375000\n",
      "380000\n",
      "385000\n",
      "390000\n",
      "395000\n",
      "400000\n"
     ]
    }
   ],
   "source": [
    "folder_path = fr\"atari_agents\\records\\MDQN_modern\\{game_name}\\0\"\n",
    "print(folder_path)\n",
    "\n",
    "\n",
    "images = []\n",
    "image_names = []\n",
    "\n",
    "idf=0\n",
    "for filename in sorted(os.listdir(folder_path)):\n",
    "    if idf%5000==0:\n",
    "        print(idf)\n",
    "    if filename.endswith('.png'):\n",
    "        # Full path to the image\n",
    "        image_path = os.path.join(folder_path, filename)\n",
    "        \n",
    "        if idf in data['frame_number'].values:\n",
    "\n",
    "            img = Image.open(image_path)\n",
    "            img_array = np.array(img, dtype=np.uint8)[:,::2,:]\n",
    "            \n",
    "            images.append(img_array)\n",
    "            image_names.append(filename)\n",
    "\n",
    "        idf+=1\n",
    "\n",
    "# Now images contains numpy arrays and image_names contains the corresponding names\n"
   ]
  },
  {
   "cell_type": "code",
   "execution_count": null,
   "metadata": {},
   "outputs": [],
   "source": [
    "# Create state, action, reward tensors\n",
    "states = images\n",
    "\n",
    "action_vals_np=data['action'].values\n",
    "action_vals = torch.tensor(action_vals_np.astype(np.int32), dtype=torch.int32).unsqueeze(1)\n",
    "\n",
    "reward_vals_np=data['reward'].values\n",
    "reward_vals = torch.tensor(reward_vals_np.astype(np.float32), dtype=torch.float32).unsqueeze(1)\n",
    "\n",
    "done_vals=data['done'].values"
   ]
  },
  {
   "cell_type": "code",
   "execution_count": null,
   "metadata": {},
   "outputs": [
    {
     "name": "stdout",
     "output_type": "stream",
     "text": [
      "0\n",
      "10000\n",
      "20000\n",
      "30000\n",
      "40000\n",
      "50000\n",
      "60000\n",
      "70000\n",
      "80000\n",
      "90000\n",
      "100000\n"
     ]
    },
    {
     "ename": "IndexError",
     "evalue": "list index out of range",
     "output_type": "error",
     "traceback": [
      "\u001b[1;31m---------------------------------------------------------------------------\u001b[0m",
      "\u001b[1;31mIndexError\u001b[0m                                Traceback (most recent call last)",
      "Cell \u001b[1;32mIn[9], line 14\u001b[0m\n\u001b[0;32m     12\u001b[0m \u001b[38;5;28;01mif\u001b[39;00m i\u001b[38;5;241m%\u001b[39m\u001b[38;5;241m10000\u001b[39m\u001b[38;5;241m==\u001b[39m\u001b[38;5;241m0\u001b[39m:\n\u001b[0;32m     13\u001b[0m     \u001b[38;5;28mprint\u001b[39m(i)\n\u001b[1;32m---> 14\u001b[0m state \u001b[38;5;241m=\u001b[39m \u001b[43mstates\u001b[49m\u001b[43m[\u001b[49m\u001b[43mi\u001b[49m\u001b[43m]\u001b[49m\n\u001b[0;32m     16\u001b[0m next_state \u001b[38;5;241m=\u001b[39m states[i\u001b[38;5;241m+\u001b[39m\u001b[38;5;241m1\u001b[39m] \u001b[38;5;28;01mif\u001b[39;00m i\u001b[38;5;241m+\u001b[39m\u001b[38;5;241m1\u001b[39m \u001b[38;5;241m<\u001b[39m \u001b[38;5;28mlen\u001b[39m(states) \u001b[38;5;28;01melse\u001b[39;00m states[i]\n\u001b[0;32m     18\u001b[0m memory\u001b[38;5;241m.\u001b[39mpush(state\u001b[38;5;241m=\u001b[39mstate,action\u001b[38;5;241m=\u001b[39maction_vals[i],next_state\u001b[38;5;241m=\u001b[39mnext_state,reward\u001b[38;5;241m=\u001b[39mreward_vals[i],frame_id\u001b[38;5;241m=\u001b[39mimage_names[i],gaze_pos\u001b[38;5;241m=\u001b[39m\u001b[38;5;28;01mNone\u001b[39;00m,done\u001b[38;5;241m=\u001b[39mdone_vals[i])\n",
      "\u001b[1;31mIndexError\u001b[0m: list index out of range"
     ]
    }
   ],
   "source": [
    "# Create replay buffer\n",
    "memory = HDF5ReplayBuffer(\n",
    "    file_path='atari_agents/replay_buffers/'+game_name+'_atari_agents_buffer_100k_4f.h5',\n",
    "    initial_capacity=100000,\n",
    "    state_shape=(210,160,3),\n",
    "    action_shape=(1,),\n",
    "    gaze_shape=(2,),\n",
    ")\n",
    "\n",
    "for i in range(len(action_vals)):\n",
    "    if i%10000==0:\n",
    "        print(i)\n",
    "    state = states[i]\n",
    "\n",
    "    next_state = states[i+1] if i+1 < len(states) else states[i]\n",
    "\n",
    "    memory.push(state=state,action=action_vals[i],next_state=next_state,reward=reward_vals[i],frame_id=image_names[i],gaze_pos=None,done=done_vals[i])\n",
    "\n",
    "memory.close()"
   ]
  }
 ],
 "metadata": {
  "kernelspec": {
   "display_name": "ml_torch312",
   "language": "python",
   "name": "python3"
  },
  "language_info": {
   "codemirror_mode": {
    "name": "ipython",
    "version": 3
   },
   "file_extension": ".py",
   "mimetype": "text/x-python",
   "name": "python",
   "nbconvert_exporter": "python",
   "pygments_lexer": "ipython3",
   "version": "3.12.3"
  }
 },
 "nbformat": 4,
 "nbformat_minor": 4
}
